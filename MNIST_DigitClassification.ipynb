{
 "cells": [
  {
   "cell_type": "markdown",
   "metadata": {
    "id": "Ahl3Z-a_JUhl"
   },
   "source": [
    "MNIST handwritten Digit Classification"
   ]
  },
  {
   "cell_type": "markdown",
   "metadata": {
    "id": "3jlfidUiLPep"
   },
   "source": [
    "Importing the Dependencies"
   ]
  },
  {
   "cell_type": "code",
   "execution_count": 1,
   "metadata": {
    "id": "D6mgr4T4IlFm"
   },
   "outputs": [
    {
     "name": "stderr",
     "output_type": "stream",
     "text": [
      "2025-03-16 14:31:28.407547: I tensorflow/core/platform/cpu_feature_guard.cc:193] This TensorFlow binary is optimized with oneAPI Deep Neural Network Library (oneDNN) to use the following CPU instructions in performance-critical operations:  SSE4.1 SSE4.2 AVX AVX2 FMA\n",
      "To enable them in other operations, rebuild TensorFlow with the appropriate compiler flags.\n"
     ]
    }
   ],
   "source": [
    "import numpy as np\n",
    "import matplotlib.pyplot as plt\n",
    "import seaborn as sns\n",
    "import cv2  # openCV library\n",
    "# from google.colab.patches import cv2_imshow  # present in cv2 however google restrictions does not allow to use it directly (only for colab)\n",
    "import tensorflow as tf\n",
    "from tensorflow import keras\n",
    "from keras.datasets import mnist\n",
    "from tensorflow.math import confusion_matrix\n",
    "tf.random.set_seed(27)  # randomness restricted"
   ]
  },
  {
   "cell_type": "markdown",
   "metadata": {
    "id": "Xq5TVdncM3_V"
   },
   "source": [
    "Loading the MNIST data from keras.datasets"
   ]
  },
  {
   "cell_type": "code",
   "execution_count": 2,
   "metadata": {
    "id": "bJUsh4IrMTyi"
   },
   "outputs": [],
   "source": [
    "(x_train_org, y_train_org), (x_test_org, y_test_org) = mnist.load_data(\"mnist.npz\") # preprocesing already done"
   ]
  },
  {
   "cell_type": "code",
   "execution_count": 3,
   "metadata": {
    "colab": {
     "base_uri": "https://localhost:8080/"
    },
    "id": "GE0HCtZZN1UI",
    "outputId": "77dbbc9b-b5ab-4f57-97ad-b1ee5c5bfbdf"
   },
   "outputs": [
    {
     "data": {
      "text/plain": [
       "numpy.ndarray"
      ]
     },
     "execution_count": 3,
     "metadata": {},
     "output_type": "execute_result"
    }
   ],
   "source": [
    "type(x_train_org) # conversion to numpy also done"
   ]
  },
  {
   "cell_type": "code",
   "execution_count": 4,
   "metadata": {
    "colab": {
     "base_uri": "https://localhost:8080/"
    },
    "id": "XC0PXH65OM-w",
    "outputId": "138d259b-dd93-4481-af36-1d7c00bb02be"
   },
   "outputs": [
    {
     "data": {
      "text/plain": [
       "((60000, 28, 28), (60000,), (10000, 28, 28), (10000,))"
      ]
     },
     "execution_count": 4,
     "metadata": {},
     "output_type": "execute_result"
    }
   ],
   "source": [
    "x_train_org.shape, y_train_org.shape, x_test_org.shape, y_test_org.shape\n",
    "\n",
    "# contains 60000 train images\n",
    "# 10000 test images\n",
    "# dimensions 28*28\n",
    "# grey scale images asther is one channel and not 3 in case of RGB"
   ]
  },
  {
   "cell_type": "code",
   "execution_count": 5,
   "metadata": {
    "colab": {
     "base_uri": "https://localhost:8080/"
    },
    "id": "t_9bOFjaOcfK",
    "outputId": "dc925691-811f-4b30-e3c7-b8935e3e130c"
   },
   "outputs": [
    {
     "name": "stdout",
     "output_type": "stream",
     "text": [
      "[[  0   0   0   0   0   0   0   0   0   0   0   0   0   0   0   0   0   0\n",
      "    0   0   0   0   0   0   0   0   0   0]\n",
      " [  0   0   0   0   0   0   0   0   0   0   0   0   0   0   0   0   0   0\n",
      "    0   0   0   0   0   0   0   0   0   0]\n",
      " [  0   0   0   0   0   0   0   0   0   0   0   0   0   0   0   0   0   0\n",
      "    0   0   0   0   0   0   0   0   0   0]\n",
      " [  0   0   0   0   0   0   0   0   0   0   0   0   0   0   0   0   0   0\n",
      "    0   0   0   0   0   0   0   0   0   0]\n",
      " [  0   0   0   0   0   0   0   0   0   0   0   0   0   0   0   0   0  38\n",
      "  190  25   0   0   0   0   0   0   0   0]\n",
      " [  0   0   0  13  25  10   0   0   0   0   0   0   0   0   0   0   0 112\n",
      "  252 125   4   0   0   0   0   0   0   0]\n",
      " [  0   0   0 132 252 113   0   0   0   0   0   0   0   0   0   0   0  61\n",
      "  252 252  36   0   0   0   0   0   0   0]\n",
      " [  0   0   0 132 252 240  79   0   0   0   0   0   0   0   0   0   0  84\n",
      "  252 252  36   0   0   0   0   0   0   0]\n",
      " [  0   0   0 132 252 252 238  52   0   0   0   0   0   0   0   0  12 198\n",
      "  252 252 122   0   0   0   0   0   0   0]\n",
      " [  0   0   0  99 252 252 252 181  17   0   0   0   0   0   0   0  49 252\n",
      "  252 252 122   0   0   0   0   0   0   0]\n",
      " [  0   0   0   3 125 252 252 252 100   0   0   0   0   0   0   0  26 218\n",
      "  252 252  36   0   0   0   0   0   0   0]\n",
      " [  0   0   0   0  15 216 252 252 207  19   0   0   0   0   0   0  49 252\n",
      "  252 252  36   0   0   0   0   0   0   0]\n",
      " [  0   0   0   0   0 157 252 252 252  48   0   0   0   6 109 109 194 252\n",
      "  252 252  36   0   0   0   0   0   0   0]\n",
      " [  0   0   0   0   0 100 252 252 252 105   0  58 116 128 252 252 252 252\n",
      "  252 212  19   0   0   0   0   0   0   0]\n",
      " [  0   0   0   0   0   0 164 253 253 253 253 253 253 255 253 253 253 253\n",
      "  253 253  99   0   0   0   0   0   0   0]\n",
      " [  0   0   0   0   0   0  49 252 252 252 252 252 252 253 252 252 252 252\n",
      "  252 252 155   0   0   0   0   0   0   0]\n",
      " [  0   0   0   0   0   0  49 252 252 252 252 252 252 217 216 141 126 252\n",
      "  252 252 155   0   0   0   0   0   0   0]\n",
      " [  0   0   0   0   0   0  49 252 252 252 234 204  89   0   0   0  49 252\n",
      "  252 252 155   0   0   0   0   0   0   0]\n",
      " [  0   0   0   0   0   0  14 158 192 151  45   0   0   0   0   0  49 252\n",
      "  252 252 225  17   0   0   0   0   0   0]\n",
      " [  0   0   0   0   0   0   0   0   0   0   0   0   0   0   0   0  49 252\n",
      "  252 252 252  23   0   0   0   0   0   0]\n",
      " [  0   0   0   0   0   0   0   0   0   0   0   0   0   0   0   0  33 228\n",
      "  252 252 252 157   4   0   0   0   0   0]\n",
      " [  0   0   0   0   0   0   0   0   0   0   0   0   0   0   0   0   0  55\n",
      "  229 252 252 252  11   0   0   0   0   0]\n",
      " [  0   0   0   0   0   0   0   0   0   0   0   0   0   0   0   0   0   0\n",
      "   53 232 252 252  63   0   0   0   0   0]\n",
      " [  0   0   0   0   0   0   0   0   0   0   0   0   0   0   0   0   0   0\n",
      "    0  90 206 131  11   0   0   0   0   0]\n",
      " [  0   0   0   0   0   0   0   0   0   0   0   0   0   0   0   0   0   0\n",
      "    0   0   0   0   0   0   0   0   0   0]\n",
      " [  0   0   0   0   0   0   0   0   0   0   0   0   0   0   0   0   0   0\n",
      "    0   0   0   0   0   0   0   0   0   0]\n",
      " [  0   0   0   0   0   0   0   0   0   0   0   0   0   0   0   0   0   0\n",
      "    0   0   0   0   0   0   0   0   0   0]\n",
      " [  0   0   0   0   0   0   0   0   0   0   0   0   0   0   0   0   0   0\n",
      "    0   0   0   0   0   0   0   0   0   0]]\n",
      "(28, 28)\n"
     ]
    }
   ],
   "source": [
    "print(x_train_org[20])\n",
    "print(x_train_org[20].shape)"
   ]
  },
  {
   "cell_type": "code",
   "execution_count": 6,
   "metadata": {
    "colab": {
     "base_uri": "https://localhost:8080/",
     "height": 447
    },
    "id": "cqNXo84zPtNl",
    "outputId": "01dc381d-226c-4a26-96be-4f2e05dc6277"
   },
   "outputs": [
    {
     "name": "stdout",
     "output_type": "stream",
     "text": [
      "4\n"
     ]
    },
    {
     "data": {
      "image/png": "[encoded data removed]",
      "text/plain": [
       "<Figure size 640x480 with 1 Axes>"
      ]
     },
     "metadata": {},
     "output_type": "display_data"
    }
   ],
   "source": [
    "plt.imshow(x_train_org[20])\n",
    "plt.title(\"Original Image\")\n",
    "plt.show\n",
    "\n",
    "print(y_train_org[20])"
   ]
  },
  {
   "cell_type": "markdown",
   "metadata": {
    "id": "iaM9jRbUQYJO"
   },
   "source": [
    "Image Labels"
   ]
  },
  {
   "cell_type": "code",
   "execution_count": 7,
   "metadata": {
    "colab": {
     "base_uri": "https://localhost:8080/"
    },
    "id": "yGlcEG8vQCBW",
    "outputId": "a33766c7-afbb-461e-ebe3-2180ac527428"
   },
   "outputs": [
    {
     "name": "stdout",
     "output_type": "stream",
     "text": [
      "(60000,) (10000,)\n",
      "[0 1 2 3 4 5 6 7 8 9]\n",
      "[0 1 2 3 4 5 6 7 8 9]\n"
     ]
    }
   ],
   "source": [
    "print(y_train_org.shape, y_test_org.shape)\n",
    "\n",
    "print(np.unique(y_train_org))\n",
    "print(np.unique(y_test_org))"
   ]
  },
  {
   "cell_type": "markdown",
   "metadata": {},
   "source": [
    "Inverting the color and creating another dataset "
   ]
  },
  {
   "cell_type": "code",
   "execution_count": 8,
   "metadata": {},
   "outputs": [
    {
     "name": "stdout",
     "output_type": "stream",
     "text": [
      "4\n"
     ]
    },
    {
     "data": {
      "image/png": "[encoded data removed]",
      "text/plain": [
       "<Figure size 640x480 with 1 Axes>"
      ]
     },
     "metadata": {},
     "output_type": "display_data"
    }
   ],
   "source": [
    "x_train_con = np.array(x_train_org)\n",
    "x_test_con = np.array(x_test_org)\n",
    "\n",
    "x_train_inv = (255 - x_train_con).astype(np.uint8)\n",
    "x_test_inv = (255 - x_test_con).astype(np.uint8)\n",
    "y_train_inv = y_train_org\n",
    "y_test_inv = y_test_org\n",
    "\n",
    "print(y_train_inv[20])\n",
    "plt.imshow(x_train_inv[20])\n",
    "plt.title(\"Inverted Image\")\n",
    "plt.show()"
   ]
  },
  {
   "cell_type": "code",
   "execution_count": 9,
   "metadata": {},
   "outputs": [
    {
     "data": {
      "text/plain": [
       "((60000, 28, 28), (60000,), (10000, 28, 28), (10000,))"
      ]
     },
     "execution_count": 9,
     "metadata": {},
     "output_type": "execute_result"
    }
   ],
   "source": [
    "np.savez(\"mnist_inverted.npz\",\n",
    "         x_train=x_train_inv, y_train=y_train_inv,\n",
    "         x_test=x_test_inv, y_test=y_test_inv)\n",
    "\n",
    "x_train_inv.shape, y_train_inv.shape, x_test_inv.shape, y_test_inv.shape"
   ]
  },
  {
   "cell_type": "markdown",
   "metadata": {},
   "source": [
    "Merging the dataets"
   ]
  },
  {
   "cell_type": "code",
   "execution_count": 10,
   "metadata": {},
   "outputs": [
    {
     "data": {
      "text/plain": [
       "((120000, 28, 28), (120000,), (20000, 28, 28), (20000,))"
      ]
     },
     "execution_count": 10,
     "metadata": {},
     "output_type": "execute_result"
    }
   ],
   "source": [
    "x_train = np.concatenate((x_train_org, x_train_inv), axis=0)\n",
    "y_train = np.concatenate((y_train_org, y_train_inv), axis=0)  \n",
    "\n",
    "x_test = np.concatenate((x_test_org, x_test_inv), axis=0)\n",
    "y_test = np.concatenate((y_test_org, y_test_inv), axis=0)\n",
    "\n",
    "x_train.shape, y_train.shape, x_test.shape, y_test.shape"
   ]
  },
  {
   "cell_type": "markdown",
   "metadata": {
    "id": "ADdoNA7yRMIU"
   },
   "source": [
    "normaliizing the scale"
   ]
  },
  {
   "cell_type": "code",
   "execution_count": 11,
   "metadata": {
    "colab": {
     "base_uri": "https://localhost:8080/"
    },
    "id": "tXUeRMWhQxda",
    "outputId": "19551559-903d-43bc-c8f1-71ce622d8715"
   },
   "outputs": [
    {
     "name": "stdout",
     "output_type": "stream",
     "text": [
      "[[0.         0.         0.         0.         0.         0.\n",
      "  0.         0.         0.         0.         0.         0.\n",
      "  0.         0.         0.         0.         0.         0.\n",
      "  0.         0.         0.         0.         0.         0.\n",
      "  0.         0.         0.         0.        ]\n",
      " [0.         0.         0.         0.         0.         0.\n",
      "  0.         0.         0.         0.         0.         0.\n",
      "  0.         0.         0.         0.         0.         0.\n",
      "  0.         0.         0.         0.         0.         0.\n",
      "  0.         0.         0.         0.        ]\n",
      " [0.         0.         0.         0.         0.         0.\n",
      "  0.         0.         0.         0.         0.         0.\n",
      "  0.         0.         0.         0.         0.         0.\n",
      "  0.         0.         0.         0.         0.         0.\n",
      "  0.         0.         0.         0.        ]\n",
      " [0.         0.         0.         0.         0.         0.\n",
      "  0.         0.         0.         0.         0.         0.\n",
      "  0.         0.         0.         0.         0.         0.\n",
      "  0.         0.         0.         0.         0.         0.\n",
      "  0.         0.         0.         0.        ]\n",
      " [0.         0.         0.         0.         0.         0.\n",
      "  0.         0.         0.         0.         0.         0.\n",
      "  0.         0.         0.         0.         0.         0.14901961\n",
      "  0.74509804 0.09803922 0.         0.         0.         0.\n",
      "  0.         0.         0.         0.        ]\n",
      " [0.         0.         0.         0.05098039 0.09803922 0.03921569\n",
      "  0.         0.         0.         0.         0.         0.\n",
      "  0.         0.         0.         0.         0.         0.43921569\n",
      "  0.98823529 0.49019608 0.01568627 0.         0.         0.\n",
      "  0.         0.         0.         0.        ]\n",
      " [0.         0.         0.         0.51764706 0.98823529 0.44313725\n",
      "  0.         0.         0.         0.         0.         0.\n",
      "  0.         0.         0.         0.         0.         0.23921569\n",
      "  0.98823529 0.98823529 0.14117647 0.         0.         0.\n",
      "  0.         0.         0.         0.        ]\n",
      " [0.         0.         0.         0.51764706 0.98823529 0.94117647\n",
      "  0.30980392 0.         0.         0.         0.         0.\n",
      "  0.         0.         0.         0.         0.         0.32941176\n",
      "  0.98823529 0.98823529 0.14117647 0.         0.         0.\n",
      "  0.         0.         0.         0.        ]\n",
      " [0.         0.         0.         0.51764706 0.98823529 0.98823529\n",
      "  0.93333333 0.20392157 0.         0.         0.         0.\n",
      "  0.         0.         0.         0.         0.04705882 0.77647059\n",
      "  0.98823529 0.98823529 0.47843137 0.         0.         0.\n",
      "  0.         0.         0.         0.        ]\n",
      " [0.         0.         0.         0.38823529 0.98823529 0.98823529\n",
      "  0.98823529 0.70980392 0.06666667 0.         0.         0.\n",
      "  0.         0.         0.         0.         0.19215686 0.98823529\n",
      "  0.98823529 0.98823529 0.47843137 0.         0.         0.\n",
      "  0.         0.         0.         0.        ]\n",
      " [0.         0.         0.         0.01176471 0.49019608 0.98823529\n",
      "  0.98823529 0.98823529 0.39215686 0.         0.         0.\n",
      "  0.         0.         0.         0.         0.10196078 0.85490196\n",
      "  0.98823529 0.98823529 0.14117647 0.         0.         0.\n",
      "  0.         0.         0.         0.        ]\n",
      " [0.         0.         0.         0.         0.05882353 0.84705882\n",
      "  0.98823529 0.98823529 0.81176471 0.0745098  0.         0.\n",
      "  0.         0.         0.         0.         0.19215686 0.98823529\n",
      "  0.98823529 0.98823529 0.14117647 0.         0.         0.\n",
      "  0.         0.         0.         0.        ]\n",
      " [0.         0.         0.         0.         0.         0.61568627\n",
      "  0.98823529 0.98823529 0.98823529 0.18823529 0.         0.\n",
      "  0.         0.02352941 0.42745098 0.42745098 0.76078431 0.98823529\n",
      "  0.98823529 0.98823529 0.14117647 0.         0.         0.\n",
      "  0.         0.         0.         0.        ]\n",
      " [0.         0.         0.         0.         0.         0.39215686\n",
      "  0.98823529 0.98823529 0.98823529 0.41176471 0.         0.22745098\n",
      "  0.45490196 0.50196078 0.98823529 0.98823529 0.98823529 0.98823529\n",
      "  0.98823529 0.83137255 0.0745098  0.         0.         0.\n",
      "  0.         0.         0.         0.        ]\n",
      " [0.         0.         0.         0.         0.         0.\n",
      "  0.64313725 0.99215686 0.99215686 0.99215686 0.99215686 0.99215686\n",
      "  0.99215686 1.         0.99215686 0.99215686 0.99215686 0.99215686\n",
      "  0.99215686 0.99215686 0.38823529 0.         0.         0.\n",
      "  0.         0.         0.         0.        ]\n",
      " [0.         0.         0.         0.         0.         0.\n",
      "  0.19215686 0.98823529 0.98823529 0.98823529 0.98823529 0.98823529\n",
      "  0.98823529 0.99215686 0.98823529 0.98823529 0.98823529 0.98823529\n",
      "  0.98823529 0.98823529 0.60784314 0.         0.         0.\n",
      "  0.         0.         0.         0.        ]\n",
      " [0.         0.         0.         0.         0.         0.\n",
      "  0.19215686 0.98823529 0.98823529 0.98823529 0.98823529 0.98823529\n",
      "  0.98823529 0.85098039 0.84705882 0.55294118 0.49411765 0.98823529\n",
      "  0.98823529 0.98823529 0.60784314 0.         0.         0.\n",
      "  0.         0.         0.         0.        ]\n",
      " [0.         0.         0.         0.         0.         0.\n",
      "  0.19215686 0.98823529 0.98823529 0.98823529 0.91764706 0.8\n",
      "  0.34901961 0.         0.         0.         0.19215686 0.98823529\n",
      "  0.98823529 0.98823529 0.60784314 0.         0.         0.\n",
      "  0.         0.         0.         0.        ]\n",
      " [0.         0.         0.         0.         0.         0.\n",
      "  0.05490196 0.61960784 0.75294118 0.59215686 0.17647059 0.\n",
      "  0.         0.         0.         0.         0.19215686 0.98823529\n",
      "  0.98823529 0.98823529 0.88235294 0.06666667 0.         0.\n",
      "  0.         0.         0.         0.        ]\n",
      " [0.         0.         0.         0.         0.         0.\n",
      "  0.         0.         0.         0.         0.         0.\n",
      "  0.         0.         0.         0.         0.19215686 0.98823529\n",
      "  0.98823529 0.98823529 0.98823529 0.09019608 0.         0.\n",
      "  0.         0.         0.         0.        ]\n",
      " [0.         0.         0.         0.         0.         0.\n",
      "  0.         0.         0.         0.         0.         0.\n",
      "  0.         0.         0.         0.         0.12941176 0.89411765\n",
      "  0.98823529 0.98823529 0.98823529 0.61568627 0.01568627 0.\n",
      "  0.         0.         0.         0.        ]\n",
      " [0.         0.         0.         0.         0.         0.\n",
      "  0.         0.         0.         0.         0.         0.\n",
      "  0.         0.         0.         0.         0.         0.21568627\n",
      "  0.89803922 0.98823529 0.98823529 0.98823529 0.04313725 0.\n",
      "  0.         0.         0.         0.        ]\n",
      " [0.         0.         0.         0.         0.         0.\n",
      "  0.         0.         0.         0.         0.         0.\n",
      "  0.         0.         0.         0.         0.         0.\n",
      "  0.20784314 0.90980392 0.98823529 0.98823529 0.24705882 0.\n",
      "  0.         0.         0.         0.        ]\n",
      " [0.         0.         0.         0.         0.         0.\n",
      "  0.         0.         0.         0.         0.         0.\n",
      "  0.         0.         0.         0.         0.         0.\n",
      "  0.         0.35294118 0.80784314 0.51372549 0.04313725 0.\n",
      "  0.         0.         0.         0.        ]\n",
      " [0.         0.         0.         0.         0.         0.\n",
      "  0.         0.         0.         0.         0.         0.\n",
      "  0.         0.         0.         0.         0.         0.\n",
      "  0.         0.         0.         0.         0.         0.\n",
      "  0.         0.         0.         0.        ]\n",
      " [0.         0.         0.         0.         0.         0.\n",
      "  0.         0.         0.         0.         0.         0.\n",
      "  0.         0.         0.         0.         0.         0.\n",
      "  0.         0.         0.         0.         0.         0.\n",
      "  0.         0.         0.         0.        ]\n",
      " [0.         0.         0.         0.         0.         0.\n",
      "  0.         0.         0.         0.         0.         0.\n",
      "  0.         0.         0.         0.         0.         0.\n",
      "  0.         0.         0.         0.         0.         0.\n",
      "  0.         0.         0.         0.        ]\n",
      " [0.         0.         0.         0.         0.         0.\n",
      "  0.         0.         0.         0.         0.         0.\n",
      "  0.         0.         0.         0.         0.         0.\n",
      "  0.         0.         0.         0.         0.         0.\n",
      "  0.         0.         0.         0.        ]]\n"
     ]
    }
   ],
   "source": [
    "x_train = x_train/255\n",
    "x_test = x_test/255\n",
    "\n",
    "print(x_train[20])"
   ]
  },
  {
   "cell_type": "code",
   "execution_count": 12,
   "metadata": {
    "id": "WN0WbCOMRh_d"
   },
   "outputs": [
    {
     "name": "stderr",
     "output_type": "stream",
     "text": [
      "2025-03-16 14:31:34.993525: I tensorflow/core/platform/cpu_feature_guard.cc:193] This TensorFlow binary is optimized with oneAPI Deep Neural Network Library (oneDNN) to use the following CPU instructions in performance-critical operations:  SSE4.1 SSE4.2 AVX AVX2 FMA\n",
      "To enable them in other operations, rebuild TensorFlow with the appropriate compiler flags.\n"
     ]
    }
   ],
   "source": [
    "x_train = tf.image.per_image_standardization(x_train)\n",
    "x_test = tf.image.per_image_standardization(x_test)"
   ]
  },
  {
   "cell_type": "markdown",
   "metadata": {
    "id": "_cpE1f5-Sanc"
   },
   "source": [
    "Model Training (Neural Network)"
   ]
  },
  {
   "cell_type": "code",
   "execution_count": 15,
   "metadata": {
    "colab": {
     "base_uri": "https://localhost:8080/"
    },
    "id": "fUdA1POcSfqW",
    "outputId": "6f5e4906-cfce-4ffb-bbb6-f1180bf35d4f"
   },
   "outputs": [],
   "source": [
    "model = keras.Sequential([\n",
    "    keras.layers.Flatten(input_shape=(28,28)),   # cannot input a 2-D array therefore it must be linearized into a line\n",
    "    keras.layers.Dense(256, activation='relu', kernel_regularizer=keras.regularizers.l1_l2(l1=0.0001, l2=0.0001)),\n",
    "    keras.layers.Dense(128, activation='relu', kernel_regularizer=keras.regularizers.l1(l1=0.0001)),\n",
    "    keras.layers.Dense(56, activation='relu', kernel_regularizer=keras.regularizers.l2(l2=0.0001)),\n",
    "    keras.layers.Dense(10, activation='softmax')\n",
    "])\n",
    "\n",
    "model.compile(optimizer='adam', loss='sparse_categorical_crossentropy', metrics=['accuracy'])"
   ]
  },
  {
   "cell_type": "code",
   "execution_count": 148,
   "metadata": {},
   "outputs": [],
   "source": [
    "model_cnn = keras.Sequential()\n",
    "\n",
    "model_cnn.add(keras.layers.Conv2D(32, kernel_size=(4,4), activation='relu', input_shape=(28,28,1)))\n",
    "model_cnn.add(keras.layers.MaxPooling2D(pool_size=(2,2)))\n",
    "\n",
    "model_cnn.add(keras.layers.Conv2D(64, kernel_size=(3,3), activation='relu'))\n",
    "model_cnn.add(keras.layers.MaxPooling2D(pool_size=(2,2)))\n",
    "\n",
    "model_cnn.add(keras.layers.Conv2D(16, kernel_size=(2,2), activation='relu'))\n",
    "model_cnn.add(keras.layers.MaxPooling2D(pool_size=(2,2)))\n",
    "\n",
    "model_cnn.add(keras.layers.Flatten())\n",
    "\n",
    "model_cnn.add(keras.layers.Dense(64, activation='relu', kernel_regularizer=keras.regularizers.l1(l1=0.0001)))\n",
    "model_cnn.add(keras.layers.Dropout(0.5))\n",
    "\n",
    "model_cnn.add(keras.layers.Dense(32, activation='relu', kernel_regularizer=keras.regularizers.l2(l2=0.0001)))\n",
    "model_cnn.add(keras.layers.Dropout(0.25))\n",
    "\n",
    "model_cnn.add(keras.layers.Dense(10, activation='softmax'))\n",
    "\n",
    "model_cnn.compile(optimizer='adam', loss='sparse_categorical_crossentropy', metrics=['accuracy'])"
   ]
  },
  {
   "cell_type": "code",
   "execution_count": 149,
   "metadata": {
    "colab": {
     "base_uri": "https://localhost:8080/"
    },
    "id": "uX4FW622TuGe",
    "outputId": "780551b0-47ee-4bb4-e51c-2f1c1c7f63d2"
   },
   "outputs": [
    {
     "name": "stdout",
     "output_type": "stream",
     "text": [
      "Epoch 1/10\n",
      "3750/3750 [==============================] - 61s 16ms/step - loss: 0.4731 - accuracy: 0.8604\n",
      "Epoch 2/10\n",
      "3750/3750 [==============================] - 60s 16ms/step - loss: 0.2056 - accuracy: 0.9522\n",
      "Epoch 3/10\n",
      "3750/3750 [==============================] - 60s 16ms/step - loss: 0.1702 - accuracy: 0.9613\n",
      "Epoch 4/10\n",
      "3750/3750 [==============================] - 61s 16ms/step - loss: 0.1523 - accuracy: 0.9674\n",
      "Epoch 5/10\n",
      "3750/3750 [==============================] - 55s 15ms/step - loss: 0.1400 - accuracy: 0.9705\n",
      "Epoch 6/10\n",
      "3750/3750 [==============================] - 52s 14ms/step - loss: 0.1312 - accuracy: 0.9728\n",
      "Epoch 7/10\n",
      "3750/3750 [==============================] - 61s 16ms/step - loss: 0.1260 - accuracy: 0.9732\n",
      "Epoch 8/10\n",
      "3750/3750 [==============================] - 54s 15ms/step - loss: 0.1208 - accuracy: 0.9750\n",
      "Epoch 9/10\n",
      "3750/3750 [==============================] - 58s 15ms/step - loss: 0.1148 - accuracy: 0.9763\n",
      "Epoch 10/10\n",
      "3750/3750 [==============================] - 57s 15ms/step - loss: 0.1108 - accuracy: 0.9775\n"
     ]
    },
    {
     "data": {
      "text/plain": [
       "<keras.callbacks.History at 0x15b7fe2b0>"
      ]
     },
     "execution_count": 149,
     "metadata": {},
     "output_type": "execute_result"
    }
   ],
   "source": [
    "model_cnn.fit(x_train, y_train, epochs=10) "
   ]
  },
  {
   "cell_type": "markdown",
   "metadata": {
    "id": "f0IYqcHPU7C0"
   },
   "source": [
    "Model Evaluation"
   ]
  },
  {
   "cell_type": "code",
   "execution_count": 150,
   "metadata": {
    "colab": {
     "base_uri": "https://localhost:8080/"
    },
    "id": "sPUbrK4HUh2-",
    "outputId": "6d77d000-345d-4ea0-f86c-ad486ab457be"
   },
   "outputs": [
    {
     "name": "stdout",
     "output_type": "stream",
     "text": [
      "625/625 [==============================] - 3s 4ms/step - loss: 0.0782 - accuracy: 0.9872\n",
      "Loss: 0.0782117024064064\n",
      "Accuracy: 0.9871500134468079\n"
     ]
    }
   ],
   "source": [
    "loss, accuracy = model_cnn.evaluate(x_test, y_test)  # our model is not overfitting, as the accuracy on the test data is also high\n",
    "print(f\"Loss: {loss}\")\n",
    "print(f\"Accuracy: {accuracy}\")"
   ]
  },
  {
   "cell_type": "markdown",
   "metadata": {
    "id": "9cRJT-6XVoKz"
   },
   "source": [
    "taking one individual value"
   ]
  },
  {
   "cell_type": "code",
   "execution_count": 18,
   "metadata": {
    "colab": {
     "base_uri": "https://localhost:8080/",
     "height": 430
    },
    "id": "XDfrQZWxVIY_",
    "outputId": "df05c59c-bbde-48e6-e598-8c922da53f28"
   },
   "outputs": [
    {
     "data": {
      "image/png": "[encoded data removed]",
      "text/plain": [
       "<Figure size 640x480 with 1 Axes>"
      ]
     },
     "metadata": {},
     "output_type": "display_data"
    }
   ],
   "source": [
    "plt.imshow(x_test[100])\n",
    "plt.show()"
   ]
  },
  {
   "cell_type": "code",
   "execution_count": 145,
   "metadata": {
    "colab": {
     "base_uri": "https://localhost:8080/"
    },
    "id": "P0oYIOETVuv9",
    "outputId": "24800bc3-6889-44c1-b81c-b3bed87eb00e"
   },
   "outputs": [
    {
     "name": "stdout",
     "output_type": "stream",
     "text": [
      "Actual Value: [6]\n",
      "625/625 [==============================] - 2s 4ms/step\n",
      "Predicted Value: [8.1927248e-10 5.1701787e-19 1.4549637e-21 3.7249705e-15 1.9254922e-14\n",
      " 6.6866352e-07 9.9999928e-01 2.8326546e-28 6.5357114e-10 4.8875680e-17]\n",
      "Predicted Answer: 6\n"
     ]
    }
   ],
   "source": [
    "print(f\"Actual Value: [{y_test[100]}]\")\n",
    "\n",
    "pred_100 = model_cnn.predict(x_test)[100]\n",
    "\n",
    "print(f\"Predicted Value: {pred_100}\")\n",
    "# output is probabilty of the 10 available classes ie 0-9\n",
    "# position with the highest value indicates the prediction with highest probability\n",
    "print(f\"Predicted Answer: {np.argmax(pred_100)}\")"
   ]
  },
  {
   "cell_type": "markdown",
   "metadata": {
    "id": "G56pP-sWYZxh"
   },
   "source": [
    "Confusion Matrix"
   ]
  },
  {
   "cell_type": "code",
   "execution_count": 151,
   "metadata": {
    "colab": {
     "base_uri": "https://localhost:8080/",
     "height": 557
    },
    "id": "Bukb4j-aWPzC",
    "outputId": "1f777e7d-8f1e-43f8-8862-e0b00477db8c"
   },
   "outputs": [
    {
     "name": "stdout",
     "output_type": "stream",
     "text": [
      "625/625 [==============================] - 2s 4ms/step\n",
      "tf.Tensor(\n",
      "[[1952    0    0    0    0    0    6    2    0    0]\n",
      " [   0 2253    3    2    0    5    0    6    1    0]\n",
      " [   2    2 2035    3    4    0    3   12    3    0]\n",
      " [   1    0    3 1987    0   14    0   13    1    1]\n",
      " [   0    0    0    0 1939    0    1    3    2   19]\n",
      " [   3    1    0    9    0 1763    3    2    2    1]\n",
      " [  15    5    0    0    1    5 1889    0    1    0]\n",
      " [   0    5    8    1    0    0    0 2038    0    4]\n",
      " [   7    0    6    5    3    2    3    7 1898   17]\n",
      " [   3    0    0    2   11    1    0    6    6 1989]], shape=(10, 10), dtype=int32)\n"
     ]
    }
   ],
   "source": [
    "y_prediction = model_cnn.predict(x_test)\n",
    "\n",
    "#y_pred_ans = []\n",
    "#for i in range (len(y_prediction)):\n",
    "#  ans = np.argmax(y_prediction[i])\n",
    "#  y_pred_ans.append(ans)\n",
    "\n",
    "y_pred_ans = [np.argmax(i) for i in y_prediction]\n",
    "conf_mat = confusion_matrix(y_test, y_pred_ans)\n",
    "\n",
    "#print(y_pred_ans)\n",
    "print(conf_mat)"
   ]
  },
  {
   "cell_type": "code",
   "execution_count": 152,
   "metadata": {
    "id": "WmsKr9oZYvYb"
   },
   "outputs": [
    {
     "data": {
      "image/png": "[encoded data removed]",
      "text/plain": [
       "<Figure size 1000x1000 with 2 Axes>"
      ]
     },
     "metadata": {},
     "output_type": "display_data"
    }
   ],
   "source": [
    "plt.figure(figsize=(10,10))\n",
    "sns.heatmap(conf_mat, annot=True, cmap='Blues', fmt='d', square=True)   # fmt='d' indicates that all values shouild be in integers\n",
    "plt.xlabel('Predicted values')\n",
    "plt.ylabel('True values')\n",
    "plt.title('Confusion Matrix')\n",
    "plt.show()"
   ]
  },
  {
   "cell_type": "markdown",
   "metadata": {
    "id": "D6VR9eW1cnGO"
   },
   "source": [
    "Building a predictive System"
   ]
  },
  {
   "cell_type": "code",
   "execution_count": 122,
   "metadata": {
    "id": "uwI5JbaMbJn1"
   },
   "outputs": [],
   "source": [
    "input1_img_path = 'Test_images/IMG_9.jpeg'\n",
    "\n",
    "input1_img = cv2.imread(input1_img_path)"
   ]
  },
  {
   "cell_type": "code",
   "execution_count": 123,
   "metadata": {
    "id": "xcSTGqJSd6U_"
   },
   "outputs": [
    {
     "name": "stdout",
     "output_type": "stream",
     "text": [
      "<class 'numpy.ndarray'>\n",
      "(312, 340, 3)\n"
     ]
    }
   ],
   "source": [
    "print(type(input1_img))\n",
    "print(input1_img.shape) # read in as RGB image"
   ]
  },
  {
   "cell_type": "code",
   "execution_count": 124,
   "metadata": {
    "id": "_XziNCG9d99V"
   },
   "outputs": [
    {
     "data": {
      "text/plain": [
       "<function matplotlib.pyplot.show(close=None, block=None)>"
      ]
     },
     "execution_count": 124,
     "metadata": {},
     "output_type": "execute_result"
    },
    {
     "data": {
      "image/png": "[encoded data removed]",
      "text/plain": [
       "<Figure size 640x480 with 1 Axes>"
      ]
     },
     "metadata": {},
     "output_type": "display_data"
    }
   ],
   "source": [
    "#cv2_imshow('Image', input1_img)  # for colab\n",
    "\n",
    "#cv2.imshow('Image', input1_img) # for jupyter notebook using imshow\n",
    "#cv2.waitKey(0)\n",
    "#cv2.destroyAllWindows()\n",
    "\n",
    "plt.imshow(input1_img)   # for jupyter notebook\n",
    "plt.show"
   ]
  },
  {
   "cell_type": "code",
   "execution_count": 125,
   "metadata": {
    "id": "MPsALFUGevho"
   },
   "outputs": [
    {
     "data": {
      "text/plain": [
       "(312, 340)"
      ]
     },
     "execution_count": 125,
     "metadata": {},
     "output_type": "execute_result"
    }
   ],
   "source": [
    "input1_greyscale_img = cv2.cvtColor(input1_img, cv2.COLOR_RGB2GRAY)   # converting RGB to greyscale\n",
    "input1_greyscale_img.shape"
   ]
  },
  {
   "cell_type": "code",
   "execution_count": 126,
   "metadata": {
    "id": "XT7Zl0Z8flck"
   },
   "outputs": [
    {
     "data": {
      "text/plain": [
       "(28, 28)"
      ]
     },
     "execution_count": 126,
     "metadata": {},
     "output_type": "execute_result"
    }
   ],
   "source": [
    "input1_img_resize = cv2.resize(input1_greyscale_img, (28,28))      # resizing the image as pre input of our NN\n",
    "input1_img_resize.shape"
   ]
  },
  {
   "cell_type": "code",
   "execution_count": 127,
   "metadata": {
    "id": "S2U3UXMPgQaS"
   },
   "outputs": [
    {
     "data": {
      "text/plain": [
       "<function matplotlib.pyplot.show(close=None, block=None)>"
      ]
     },
     "execution_count": 127,
     "metadata": {},
     "output_type": "execute_result"
    },
    {
     "data": {
      "image/png": "[encoded data removed]",
      "text/plain": [
       "<Figure size 640x480 with 1 Axes>"
      ]
     },
     "metadata": {},
     "output_type": "display_data"
    }
   ],
   "source": [
    "#cv2_imshow(input1_img_resize) # colab\n",
    "\n",
    "plt.imshow(input1_img_resize)   # for jupyter notebook\n",
    "plt.show"
   ]
  },
  {
   "cell_type": "code",
   "execution_count": 128,
   "metadata": {
    "id": "h21jYjmVgVCF"
   },
   "outputs": [],
   "source": [
    "input1_image_resized = input1_img_resize/255   # normalization like before"
   ]
  },
  {
   "cell_type": "code",
   "execution_count": 129,
   "metadata": {
    "id": "Rfjd7dnrgtY3"
   },
   "outputs": [],
   "source": [
    "image1_reshaped = np.reshape(input1_image_resized, [1,28,28])\n",
    "# this indicates that we are only one image as input"
   ]
  },
  {
   "cell_type": "code",
   "execution_count": 130,
   "metadata": {
    "id": "GIaq_z5EhFR7"
   },
   "outputs": [
    {
     "name": "stdout",
     "output_type": "stream",
     "text": [
      "1/1 [==============================] - 0s 38ms/step\n",
      "[[7.2933341e-05 1.4498324e-05 2.5443445e-04 2.3896551e-04 3.4735123e-05\n",
      "  1.3621325e-03 9.7589640e-05 1.1637666e-06 9.9753881e-01 3.8471512e-04]]\n",
      "Predicted value: 8\n"
     ]
    }
   ],
   "source": [
    "input1_prediction = model_cnn.predict(image1_reshaped)\n",
    "print(input1_prediction)\n",
    "print(f\"Predicted value: {np.argmax(input1_prediction)}\")"
   ]
  },
  {
   "cell_type": "markdown",
   "metadata": {
    "id": "lL8R-rC_iuxA"
   },
   "source": [
    "Creating a System"
   ]
  },
  {
   "cell_type": "code",
   "execution_count": 153,
   "metadata": {},
   "outputs": [
    {
     "name": "stdout",
     "output_type": "stream",
     "text": [
      "1/1 [==============================] - 0s 124ms/step\n",
      "IMG_1.jpeg -> 0\n",
      "1/1 [==============================] - 0s 26ms/step\n",
      "IMG_2.jpeg -> 1\n",
      "1/1 [==============================] - 0s 25ms/step\n",
      "IMG_3.jpeg -> 7\n",
      "1/1 [==============================] - 0s 27ms/step\n",
      "IMG_4.jpeg -> 7\n",
      "1/1 [==============================] - 0s 25ms/step\n",
      "IMG_5.jpeg -> 3\n",
      "1/1 [==============================] - 0s 28ms/step\n",
      "IMG_6.jpeg -> 5\n",
      "1/1 [==============================] - 0s 27ms/step\n",
      "IMG_7.jpeg -> 5\n",
      "1/1 [==============================] - 0s 31ms/step\n",
      "IMG_8.jpeg -> 2\n",
      "1/1 [==============================] - 0s 25ms/step\n",
      "IMG_9.jpeg -> 8\n",
      "1/1 [==============================] - 0s 25ms/step\n",
      "IMG_10.jpeg -> 9\n",
      "1/1 [==============================] - 0s 28ms/step\n",
      "IMG_11.jpeg -> 1\n",
      "1/1 [==============================] - 0s 28ms/step\n",
      "IMG_12.jpeg -> 7\n",
      "1/1 [==============================] - 0s 29ms/step\n",
      "IMG_13.jpeg -> 1\n",
      "1/1 [==============================] - 0s 31ms/step\n",
      "IMG_14.jpeg -> 2\n",
      "1/1 [==============================] - 0s 32ms/step\n",
      "IMG_15.jpeg -> 1\n",
      "1/1 [==============================] - 0s 32ms/step\n",
      "IMG_16.jpeg -> 8\n",
      "1/1 [==============================] - 0s 25ms/step\n",
      "IMG_17.jpeg -> 5\n",
      "1/1 [==============================] - 0s 24ms/step\n",
      "IMG_18.jpeg -> 1\n",
      "1/1 [==============================] - 0s 26ms/step\n",
      "IMG_19.jpeg -> 8\n",
      "1/1 [==============================] - 0s 23ms/step\n",
      "IMG_20.jpeg -> 7\n",
      "1/1 [==============================] - 0s 27ms/step\n",
      "IMG_21.jpeg -> 9\n",
      "1/1 [==============================] - 0s 29ms/step\n",
      "IMG_22.jpeg -> 5\n",
      "1/1 [==============================] - 0s 28ms/step\n",
      "IMG_23.jpeg -> 9\n",
      "1/1 [==============================] - 0s 29ms/step\n",
      "IMG_24.jpeg -> 7\n",
      "1/1 [==============================] - 0s 28ms/step\n",
      "IMG_25.jpeg -> 2\n",
      "1/1 [==============================] - 0s 27ms/step\n",
      "IMG_26.jpeg -> 4\n",
      "1/1 [==============================] - 0s 26ms/step\n",
      "IMG_27.jpeg -> 1\n",
      "1/1 [==============================] - 0s 26ms/step\n",
      "IMG_28.jpeg -> 3\n",
      "1/1 [==============================] - 0s 26ms/step\n",
      "IMG_29.jpeg -> 6\n",
      "1/1 [==============================] - 0s 33ms/step\n",
      "IMG_30.jpeg -> 8\n",
      "1/1 [==============================] - 0s 33ms/step\n",
      "IMG_31.jpeg -> 0\n",
      "1/1 [==============================] - 0s 25ms/step\n",
      "IMG_32.jpeg -> 3\n",
      "1/1 [==============================] - 0s 25ms/step\n",
      "IMG_33.jpeg -> 1\n",
      "1/1 [==============================] - 0s 28ms/step\n",
      "IMG_34.jpeg -> 1\n"
     ]
    }
   ],
   "source": [
    "#input_path = input(\"Enter path of the image: \")\n",
    "\n",
    "def img_classify(path):\n",
    "    img = cv2.imread(path)\n",
    "    grey = cv2.cvtColor(img, cv2.COLOR_RGB2GRAY)\n",
    "    resize = cv2.resize(grey, (28,28))\n",
    "    norm = resize/255\n",
    "    reshape = np.reshape(norm, [1,28,28])\n",
    "    pred = model_cnn.predict(reshape)\n",
    "    return np.argmax(pred)\n",
    "    #print(f\"the handwritten image is: {np.argmax(pred)}\")\n",
    "\n",
    "#img_classify(input_path)\n",
    "\n",
    "import os\n",
    "\n",
    "file_path = \"/Users/safwanshaikh/Downloads/AML/MNIST-Digit-Classification/Test_images/\"\n",
    "\n",
    "# Loop from 1 to 34 (inclusive)\n",
    "for i in range(1, 35):  \n",
    "    file = os.path.join(file_path, f\"IMG_{i}.jpeg\")  # Correct filename format\n",
    "    \n",
    "    # Call your function and get the output\n",
    "    result = img_classify(file)\n",
    "    \n",
    "    # Print or store results\n",
    "    print(f\"IMG_{i}.jpeg -> {result}\")\n",
    "    "
   ]
  },
  {
   "cell_type": "code",
   "execution_count": null,
   "metadata": {},
   "outputs": [],
   "source": []
  }
 ],
 "metadata": {
  "colab": {
   "provenance": []
  },
  "kernelspec": {
   "display_name": "Python[conda env: MachineLearning]",
   "language": "python",
   "name": "machinelearning"
  },
  "language_info": {
   "codemirror_mode": {
    "name": "ipython",
    "version": 3
   },
   "file_extension": ".py",
   "mimetype": "text/x-python",
   "name": "python",
   "nbconvert_exporter": "python",
   "pygments_lexer": "ipython3",
   "version": "3.8.20"
  }
 },
 "nbformat": 4,
 "nbformat_minor": 4
}
